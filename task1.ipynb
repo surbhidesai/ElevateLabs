{
 "cells": [
  {
   "cell_type": "code",
   "execution_count": 2,
   "metadata": {},
   "outputs": [],
   "source": [
    "import pandas as pd"
   ]
  },
  {
   "cell_type": "code",
   "execution_count": 9,
   "metadata": {},
   "outputs": [],
   "source": [
    "sales_data = pd.read_csv(r\"C:\\Users\\surbhi\\Downloads\\sales_data_sample.csv\" , encoding = \"latin1\")"
   ]
  },
  {
   "cell_type": "code",
   "execution_count": 10,
   "metadata": {},
   "outputs": [
    {
     "name": "stdout",
     "output_type": "stream",
     "text": [
      "   ORDERNUMBER  QUANTITYORDERED  PRICEEACH  ORDERLINENUMBER    SALES  \\\n",
      "0        10107               30      95.70                2  2871.00   \n",
      "1        10121               34      81.35                5  2765.90   \n",
      "2        10134               41      94.74                2  3884.34   \n",
      "3        10145               45      83.26                6  3746.70   \n",
      "4        10159               49     100.00               14  5205.27   \n",
      "\n",
      "         ORDERDATE   STATUS  QTR_ID  MONTH_ID  YEAR_ID  ...  \\\n",
      "0   2/24/2003 0:00  Shipped       1         2     2003  ...   \n",
      "1    5/7/2003 0:00  Shipped       2         5     2003  ...   \n",
      "2    7/1/2003 0:00  Shipped       3         7     2003  ...   \n",
      "3   8/25/2003 0:00  Shipped       3         8     2003  ...   \n",
      "4  10/10/2003 0:00  Shipped       4        10     2003  ...   \n",
      "\n",
      "                    ADDRESSLINE1  ADDRESSLINE2           CITY STATE  \\\n",
      "0        897 Long Airport Avenue           NaN            NYC    NY   \n",
      "1             59 rue de l'Abbaye           NaN          Reims   NaN   \n",
      "2  27 rue du Colonel Pierre Avia           NaN          Paris   NaN   \n",
      "3             78934 Hillside Dr.           NaN       Pasadena    CA   \n",
      "4                7734 Strong St.           NaN  San Francisco    CA   \n",
      "\n",
      "  POSTALCODE COUNTRY TERRITORY CONTACTLASTNAME CONTACTFIRSTNAME DEALSIZE  \n",
      "0      10022     USA       NaN              Yu             Kwai    Small  \n",
      "1      51100  France      EMEA         Henriot             Paul    Small  \n",
      "2      75508  France      EMEA        Da Cunha           Daniel   Medium  \n",
      "3      90003     USA       NaN           Young            Julie   Medium  \n",
      "4        NaN     USA       NaN           Brown            Julie   Medium  \n",
      "\n",
      "[5 rows x 25 columns]\n"
     ]
    }
   ],
   "source": [
    "print(sales_data.head())"
   ]
  },
  {
   "cell_type": "code",
   "execution_count": 13,
   "metadata": {},
   "outputs": [
    {
     "data": {
      "text/plain": [
       "Index(['ORDERNUMBER', 'QUANTITYORDERED', 'PRICEEACH', 'ORDERLINENUMBER',\n",
       "       'SALES', 'ORDERDATE', 'STATUS', 'QTR_ID', 'MONTH_ID', 'YEAR_ID',\n",
       "       'PRODUCTLINE', 'MSRP', 'PRODUCTCODE', 'CUSTOMERNAME', 'PHONE',\n",
       "       'ADDRESSLINE1', 'ADDRESSLINE2', 'CITY', 'STATE', 'POSTALCODE',\n",
       "       'COUNTRY', 'TERRITORY', 'CONTACTLASTNAME', 'CONTACTFIRSTNAME',\n",
       "       'DEALSIZE'],\n",
       "      dtype='object')"
      ]
     },
     "execution_count": 13,
     "metadata": {},
     "output_type": "execute_result"
    }
   ],
   "source": [
    "sales_data.columns"
   ]
  },
  {
   "cell_type": "code",
   "execution_count": 16,
   "metadata": {},
   "outputs": [
    {
     "data": {
      "text/plain": [
       "ORDERNUMBER            0\n",
       "QUANTITYORDERED        0\n",
       "PRICEEACH              0\n",
       "ORDERLINENUMBER        0\n",
       "SALES                  0\n",
       "ORDERDATE              0\n",
       "STATUS                 0\n",
       "QTR_ID                 0\n",
       "MONTH_ID               0\n",
       "YEAR_ID                0\n",
       "PRODUCTLINE            0\n",
       "MSRP                   0\n",
       "PRODUCTCODE            0\n",
       "CUSTOMERNAME           0\n",
       "PHONE                  0\n",
       "ADDRESSLINE1           0\n",
       "ADDRESSLINE2        2521\n",
       "CITY                   0\n",
       "STATE               1486\n",
       "POSTALCODE            76\n",
       "COUNTRY                0\n",
       "TERRITORY           1074\n",
       "CONTACTLASTNAME        0\n",
       "CONTACTFIRSTNAME       0\n",
       "DEALSIZE               0\n",
       "dtype: int64"
      ]
     },
     "execution_count": 16,
     "metadata": {},
     "output_type": "execute_result"
    }
   ],
   "source": [
    "sales_data.isnull().sum()"
   ]
  },
  {
   "cell_type": "code",
   "execution_count": 20,
   "metadata": {},
   "outputs": [],
   "source": [
    "sales_data['ADDRESSLINE2'] = sales_data['ADDRESSLINE2'].fillna(\"Not Provided\")\n",
    "sales_data['STATE'] = sales_data['STATE'].fillna(\"Unknown\")\n",
    "sales_data['TERRITORY'] = sales_data['TERRITORY'].fillna(\"Unknown\")\n",
    "sales_data['POSTALCODE'] = sales_data['POSTALCODE'].fillna(\"Unknown\")"
   ]
  },
  {
   "cell_type": "code",
   "execution_count": 21,
   "metadata": {},
   "outputs": [
    {
     "data": {
      "text/plain": [
       "ORDERNUMBER         0\n",
       "QUANTITYORDERED     0\n",
       "PRICEEACH           0\n",
       "ORDERLINENUMBER     0\n",
       "SALES               0\n",
       "ORDERDATE           0\n",
       "STATUS              0\n",
       "QTR_ID              0\n",
       "MONTH_ID            0\n",
       "YEAR_ID             0\n",
       "PRODUCTLINE         0\n",
       "MSRP                0\n",
       "PRODUCTCODE         0\n",
       "CUSTOMERNAME        0\n",
       "PHONE               0\n",
       "ADDRESSLINE1        0\n",
       "ADDRESSLINE2        0\n",
       "CITY                0\n",
       "STATE               0\n",
       "POSTALCODE          0\n",
       "COUNTRY             0\n",
       "TERRITORY           0\n",
       "CONTACTLASTNAME     0\n",
       "CONTACTFIRSTNAME    0\n",
       "DEALSIZE            0\n",
       "dtype: int64"
      ]
     },
     "execution_count": 21,
     "metadata": {},
     "output_type": "execute_result"
    }
   ],
   "source": [
    "sales_data.isnull().sum()"
   ]
  },
  {
   "cell_type": "code",
   "execution_count": 22,
   "metadata": {},
   "outputs": [
    {
     "data": {
      "text/plain": [
       "0"
      ]
     },
     "execution_count": 22,
     "metadata": {},
     "output_type": "execute_result"
    }
   ],
   "source": [
    "sales_data.duplicated().sum()"
   ]
  },
  {
   "cell_type": "code",
   "execution_count": 36,
   "metadata": {},
   "outputs": [
    {
     "data": {
      "text/plain": [
       "array(['USA', 'France', 'Norway', 'Australia', 'Finland', 'Austria', 'UK',\n",
       "       'Spain', 'Sweden', 'Singapore', 'Canada', 'Japan', 'Italy',\n",
       "       'Denmark', 'Belgium', 'Philippines', 'Germany', 'Switzerland',\n",
       "       'Ireland'], dtype=object)"
      ]
     },
     "execution_count": 36,
     "metadata": {},
     "output_type": "execute_result"
    }
   ],
   "source": [
    "sales_data['COUNTRY'].unique()"
   ]
  },
  {
   "cell_type": "code",
   "execution_count": 37,
   "metadata": {},
   "outputs": [
    {
     "data": {
      "text/plain": [
       "0        2/24/2003 0:00\n",
       "1         5/7/2003 0:00\n",
       "2         7/1/2003 0:00\n",
       "3        8/25/2003 0:00\n",
       "4       10/10/2003 0:00\n",
       "             ...       \n",
       "2818     12/2/2004 0:00\n",
       "2819     1/31/2005 0:00\n",
       "2820      3/1/2005 0:00\n",
       "2821     3/28/2005 0:00\n",
       "2822      5/6/2005 0:00\n",
       "Name: ORDERDATE, Length: 2823, dtype: object"
      ]
     },
     "execution_count": 37,
     "metadata": {},
     "output_type": "execute_result"
    }
   ],
   "source": [
    "sales_data['ORDERDATE']"
   ]
  },
  {
   "cell_type": "code",
   "execution_count": 39,
   "metadata": {},
   "outputs": [],
   "source": [
    "sales_data['ORDERDATE'] = pd.to_datetime(sales_data['ORDERDATE'])\n",
    "sales_data['ORDERDATE'] = sales_data['ORDERDATE'].dt.strftime('%d-%m-%y')"
   ]
  },
  {
   "cell_type": "code",
   "execution_count": 48,
   "metadata": {},
   "outputs": [
    {
     "data": {
      "text/plain": [
       "array(['24-02-03', '07-05-03', '01-07-03', '25-08-03', '10-10-03',\n",
       "       '28-10-03', '11-11-03', '18-11-03', '01-12-03', '15-01-04',\n",
       "       '20-02-04', '05-04-04', '18-05-04', '28-06-04', '23-07-04',\n",
       "       '27-08-04', '30-09-04', '15-10-04', '02-11-04', '15-11-04',\n",
       "       '24-11-04', '17-12-04', '03-02-05', '03-03-05', '08-04-05',\n",
       "       '13-05-05', '29-01-03', '24-03-03', '28-05-03', '24-07-03',\n",
       "       '19-09-03', '20-10-03', '06-11-03', '13-11-03', '25-11-03',\n",
       "       '05-12-03', '29-01-04', '10-03-04', '04-05-04', '15-06-04',\n",
       "       '19-07-04', '17-08-04', '08-09-04', '11-10-04', '21-10-04',\n",
       "       '04-11-04', '18-11-04', '29-11-04', '10-12-04', '20-01-05',\n",
       "       '17-02-05', '09-03-05', '01-05-05', '31-05-05', '29-04-03',\n",
       "       '12-01-04', '03-04-04', '27-09-04', '23-11-04', '02-02-05',\n",
       "       '07-04-05', '05-01-05', '11-02-03', '28-04-03', '12-06-03',\n",
       "       '10-08-03', '06-10-03', '23-10-03', '08-11-03', '14-11-03',\n",
       "       '26-11-03', '09-01-04', '19-02-04', '07-05-04', '17-06-04',\n",
       "       '21-07-04', '20-08-04', '10-09-04', '14-10-04', '01-11-04',\n",
       "       '05-11-04', '21-11-04', '02-12-04', '15-12-04', '31-01-05',\n",
       "       '23-02-05', '17-03-05', '01-04-05', '06-05-05', '01-04-03',\n",
       "       '21-10-03', '09-12-03', '04-02-04', '11-03-04', '19-08-04',\n",
       "       '13-10-04', '22-10-04', '19-11-04', '03-03-03', '08-05-03',\n",
       "       '02-07-03', '05-09-03', '04-11-03', '12-11-03', '20-11-03',\n",
       "       '02-12-03', '22-02-04', '09-04-04', '01-06-04', '06-07-04',\n",
       "       '02-08-04', '30-08-04', '04-10-03', '16-10-04', '03-11-04',\n",
       "       '06-01-05', '17-05-05', '16-04-03', '03-06-03', '08-08-03',\n",
       "       '28-09-03', '22-10-03', '02-01-04', '12-02-04', '19-03-04',\n",
       "       '05-05-04', '20-07-04', '09-09-04', '20-11-04', '23-01-05',\n",
       "       '05-05-05', '26-03-03', '02-02-04', '21-02-04', '31-01-03',\n",
       "       '15-03-04', '26-01-05', '11-10-03', '16-01-04', '08-02-05',\n",
       "       '01-12-04', '23-03-05', '09-02-05', '04-04-03', '01-08-03',\n",
       "       '21-09-03', '10-02-04', '03-05-05', '12-04-04', '04-08-04',\n",
       "       '14-04-05', '10-03-03', '04-07-03', '11-09-03', '17-10-03',\n",
       "       '05-11-03', '13-04-04', '06-08-04', '05-10-03', '17-11-04',\n",
       "       '09-12-04', '07-01-05', '04-03-05', '15-04-05', '10-01-03',\n",
       "       '25-03-03', '21-05-03', '16-07-03', '12-09-03', '18-10-03',\n",
       "       '21-11-03', '03-12-03', '02-03-04', '29-04-04', '08-06-04',\n",
       "       '03-09-04', '16-02-05', '30-05-05', '18-03-03', '20-05-03',\n",
       "       '10-07-03', '26-02-04', '01-09-04', '12-01-05', '10-02-05',\n",
       "       '22-04-05', '17-02-03', '16-06-03', '27-11-03', '11-05-04',\n",
       "       '24-06-04', '21-08-04', '15-09-04', '10-11-04', '22-11-04',\n",
       "       '03-12-04', '01-03-05', '30-03-05', '10-05-05', '06-01-03',\n",
       "       '26-01-04', '25-11-04', '29-05-05', '10-01-05', '06-10-04',\n",
       "       '22-02-05', '09-01-03', '26-04-04', '23-04-05', '27-06-03',\n",
       "       '02-04-04', '16-09-04', '04-12-04', '03-04-05', '04-06-04',\n",
       "       '14-06-04', '16-07-04', '10-03-05', '06-06-03', '07-11-03',\n",
       "       '18-02-04', '20-03-04', '15-03-05', '09-11-04', '26-05-04',\n",
       "       '02-07-04', '07-09-04', '16-11-04', '07-12-04', '03-09-03',\n",
       "       '30-06-04', '28-08-04', '08-05-04', '12-11-04', '09-05-05',\n",
       "       '25-09-03', '22-01-04', '29-10-04', '07-07-04', '09-08-04',\n",
       "       '19-11-03', '19-01-05', '02-10-03', '29-03-04', '28-02-05',\n",
       "       '20-04-04', '02-03-05', '11-04-03', '13-08-03', '08-10-03',\n",
       "       '28-03-05', '21-04-03'], dtype=object)"
      ]
     },
     "execution_count": 48,
     "metadata": {},
     "output_type": "execute_result"
    }
   ],
   "source": [
    "sales_data['ORDERDATE'].unique()"
   ]
  },
  {
   "cell_type": "code",
   "execution_count": 49,
   "metadata": {},
   "outputs": [
    {
     "data": {
      "text/plain": [
       "Index(['ORDERNUMBER', 'QUANTITYORDERED', 'PRICEEACH', 'ORDERLINENUMBER',\n",
       "       'SALES', 'ORDERDATE', 'STATUS', 'QTR_ID', 'MONTH_ID', 'YEAR_ID',\n",
       "       'PRODUCTLINE', 'MSRP', 'PRODUCTCODE', 'CUSTOMERNAME', 'PHONE',\n",
       "       'ADDRESSLINE1', 'ADDRESSLINE2', 'CITY', 'STATE', 'POSTALCODE',\n",
       "       'COUNTRY', 'TERRITORY', 'CONTACTLASTNAME', 'CONTACTFIRSTNAME',\n",
       "       'DEALSIZE'],\n",
       "      dtype='object')"
      ]
     },
     "execution_count": 49,
     "metadata": {},
     "output_type": "execute_result"
    }
   ],
   "source": [
    "sales_data.columns"
   ]
  },
  {
   "cell_type": "code",
   "execution_count": 50,
   "metadata": {},
   "outputs": [],
   "source": [
    "sales_data.columns = sales_data.columns.str.lower()"
   ]
  },
  {
   "cell_type": "code",
   "execution_count": 51,
   "metadata": {},
   "outputs": [
    {
     "data": {
      "text/plain": [
       "Index(['ordernumber', 'quantityordered', 'priceeach', 'orderlinenumber',\n",
       "       'sales', 'orderdate', 'status', 'qtr_id', 'month_id', 'year_id',\n",
       "       'productline', 'msrp', 'productcode', 'customername', 'phone',\n",
       "       'addressline1', 'addressline2', 'city', 'state', 'postalcode',\n",
       "       'country', 'territory', 'contactlastname', 'contactfirstname',\n",
       "       'dealsize'],\n",
       "      dtype='object')"
      ]
     },
     "execution_count": 51,
     "metadata": {},
     "output_type": "execute_result"
    }
   ],
   "source": [
    "sales_data.columns"
   ]
  },
  {
   "cell_type": "code",
   "execution_count": 52,
   "metadata": {},
   "outputs": [
    {
     "data": {
      "text/plain": [
       "ordernumber           int64\n",
       "quantityordered       int64\n",
       "priceeach           float64\n",
       "orderlinenumber       int64\n",
       "sales               float64\n",
       "orderdate            object\n",
       "status               object\n",
       "qtr_id                int64\n",
       "month_id              int64\n",
       "year_id               int64\n",
       "productline          object\n",
       "msrp                  int64\n",
       "productcode          object\n",
       "customername         object\n",
       "phone                object\n",
       "addressline1         object\n",
       "addressline2         object\n",
       "city                 object\n",
       "state                object\n",
       "postalcode           object\n",
       "country              object\n",
       "territory            object\n",
       "contactlastname      object\n",
       "contactfirstname     object\n",
       "dealsize             object\n",
       "dtype: object"
      ]
     },
     "execution_count": 52,
     "metadata": {},
     "output_type": "execute_result"
    }
   ],
   "source": [
    "sales_data.dtypes"
   ]
  },
  {
   "cell_type": "code",
   "execution_count": 53,
   "metadata": {},
   "outputs": [],
   "source": [
    "sales_data['orderdate'] = pd.to_datetime(sales_data['orderdate'])\n"
   ]
  },
  {
   "cell_type": "code",
   "execution_count": 55,
   "metadata": {},
   "outputs": [
    {
     "data": {
      "text/plain": [
       "ordernumber                  int64\n",
       "quantityordered              int64\n",
       "priceeach                  float64\n",
       "orderlinenumber              int64\n",
       "sales                      float64\n",
       "orderdate           datetime64[ns]\n",
       "status                      object\n",
       "qtr_id                       int64\n",
       "month_id                     int64\n",
       "year_id                      int64\n",
       "productline                 object\n",
       "msrp                         int64\n",
       "productcode                 object\n",
       "customername                object\n",
       "phone                       object\n",
       "addressline1                object\n",
       "addressline2                object\n",
       "city                        object\n",
       "state                       object\n",
       "postalcode                  object\n",
       "country                     object\n",
       "territory                   object\n",
       "contactlastname             object\n",
       "contactfirstname            object\n",
       "dealsize                    object\n",
       "dtype: object"
      ]
     },
     "execution_count": 55,
     "metadata": {},
     "output_type": "execute_result"
    }
   ],
   "source": [
    "sales_data.dtypes"
   ]
  },
  {
   "cell_type": "code",
   "execution_count": null,
   "metadata": {},
   "outputs": [],
   "source": []
  }
 ],
 "metadata": {
  "kernelspec": {
   "display_name": "Python 3",
   "language": "python",
   "name": "python3"
  },
  "language_info": {
   "codemirror_mode": {
    "name": "ipython",
    "version": 3
   },
   "file_extension": ".py",
   "mimetype": "text/x-python",
   "name": "python",
   "nbconvert_exporter": "python",
   "pygments_lexer": "ipython3",
   "version": "3.8.3"
  }
 },
 "nbformat": 4,
 "nbformat_minor": 4
}
